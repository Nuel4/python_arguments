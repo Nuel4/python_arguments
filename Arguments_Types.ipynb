{
 "cells": [
  {
   "cell_type": "code",
   "execution_count": 1,
   "metadata": {},
   "outputs": [
    {
     "name": "stdout",
     "output_type": "stream",
     "text": [
      "20\n",
      "Mike\n"
     ]
    }
   ],
   "source": [
    "def vent(age,name): \n",
    "    print(age)\n",
    "    print(name)\n",
    "    \n",
    "vent(name ='Mike' ,age =20)    # actual argument"
   ]
  },
  {
   "cell_type": "markdown",
   "metadata": {},
   "source": [
    "# predefining argumenting value"
   ]
  },
  {
   "cell_type": "code",
   "execution_count": 7,
   "metadata": {},
   "outputs": [
    {
     "name": "stdout",
     "output_type": "stream",
     "text": [
      "15\n",
      "Mike\n"
     ]
    }
   ],
   "source": [
    "def vent(name,age=15):  \n",
    "    print(age)\n",
    "    print(name)\n",
    "    \n",
    "vent('Mike') "
   ]
  },
  {
   "cell_type": "markdown",
   "metadata": {},
   "source": [
    "# over riding the default value"
   ]
  },
  {
   "cell_type": "code",
   "execution_count": 8,
   "metadata": {},
   "outputs": [
    {
     "name": "stdout",
     "output_type": "stream",
     "text": [
      "24\n",
      "Mike\n"
     ]
    }
   ],
   "source": [
    "def vent(name,age=15):  \n",
    "    print(age)\n",
    "    print(name)\n",
    "    \n",
    "vent('Mike' ,24) "
   ]
  },
  {
   "cell_type": "code",
   "execution_count": null,
   "metadata": {},
   "outputs": [],
   "source": []
  }
 ],
 "metadata": {
  "kernelspec": {
   "display_name": "Python 3",
   "language": "python",
   "name": "python3"
  },
  "language_info": {
   "codemirror_mode": {
    "name": "ipython",
    "version": 3
   },
   "file_extension": ".py",
   "mimetype": "text/x-python",
   "name": "python",
   "nbconvert_exporter": "python",
   "pygments_lexer": "ipython3",
   "version": "3.7.3"
  }
 },
 "nbformat": 4,
 "nbformat_minor": 2
}
